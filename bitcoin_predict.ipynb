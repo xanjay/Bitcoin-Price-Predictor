{
 "cells": [
  {
   "cell_type": "markdown",
   "metadata": {},
   "source": [
    "## Bitcoin Price Predictor"
   ]
  },
  {
   "cell_type": "markdown",
   "metadata": {},
   "source": [
    "#### Predict next day stock price using last 60 days data"
   ]
  },
  {
   "cell_type": "markdown",
   "metadata": {},
   "source": [
    "### Imports:"
   ]
  },
  {
   "cell_type": "code",
   "execution_count": 1,
   "metadata": {},
   "outputs": [],
   "source": [
    "import tensorflow as tf\n",
    "import pandas as pd\n",
    "from sklearn.preprocessing import StandardScaler\n",
    "\n",
    "import time\n",
    "from collections import deque\n",
    "import numpy as np\n",
    "import random\n",
    "import matplotlib.pyplot as plt\n",
    "\n",
    "from tensorflow.keras.models import Sequential\n",
    "from tensorflow.keras.layers import Dense, Dropout, CuDNNLSTM, BatchNormalization"
   ]
  },
  {
   "cell_type": "markdown",
   "metadata": {},
   "source": [
    "### Data Import:"
   ]
  },
  {
   "cell_type": "code",
   "execution_count": 2,
   "metadata": {},
   "outputs": [
    {
     "data": {
      "text/html": [
       "<div>\n",
       "<style scoped>\n",
       "    .dataframe tbody tr th:only-of-type {\n",
       "        vertical-align: middle;\n",
       "    }\n",
       "\n",
       "    .dataframe tbody tr th {\n",
       "        vertical-align: top;\n",
       "    }\n",
       "\n",
       "    .dataframe thead th {\n",
       "        text-align: right;\n",
       "    }\n",
       "</style>\n",
       "<table border=\"1\" class=\"dataframe\">\n",
       "  <thead>\n",
       "    <tr style=\"text-align: right;\">\n",
       "      <th></th>\n",
       "      <th>low</th>\n",
       "      <th>high</th>\n",
       "      <th>open</th>\n",
       "      <th>close</th>\n",
       "      <th>volume</th>\n",
       "    </tr>\n",
       "    <tr>\n",
       "      <th>time</th>\n",
       "      <th></th>\n",
       "      <th></th>\n",
       "      <th></th>\n",
       "      <th></th>\n",
       "      <th></th>\n",
       "    </tr>\n",
       "  </thead>\n",
       "  <tbody>\n",
       "    <tr>\n",
       "      <th>1528968660</th>\n",
       "      <td>6489.549805</td>\n",
       "      <td>6489.560059</td>\n",
       "      <td>6489.560059</td>\n",
       "      <td>6489.549805</td>\n",
       "      <td>0.587100</td>\n",
       "    </tr>\n",
       "    <tr>\n",
       "      <th>1528968720</th>\n",
       "      <td>6487.370117</td>\n",
       "      <td>6489.560059</td>\n",
       "      <td>6489.549805</td>\n",
       "      <td>6487.379883</td>\n",
       "      <td>7.706374</td>\n",
       "    </tr>\n",
       "    <tr>\n",
       "      <th>1528968780</th>\n",
       "      <td>6479.410156</td>\n",
       "      <td>6487.370117</td>\n",
       "      <td>6487.370117</td>\n",
       "      <td>6479.410156</td>\n",
       "      <td>3.088252</td>\n",
       "    </tr>\n",
       "    <tr>\n",
       "      <th>1528968840</th>\n",
       "      <td>6479.410156</td>\n",
       "      <td>6479.419922</td>\n",
       "      <td>6479.419922</td>\n",
       "      <td>6479.410156</td>\n",
       "      <td>1.404100</td>\n",
       "    </tr>\n",
       "    <tr>\n",
       "      <th>1528968900</th>\n",
       "      <td>6475.930176</td>\n",
       "      <td>6479.979980</td>\n",
       "      <td>6479.410156</td>\n",
       "      <td>6479.979980</td>\n",
       "      <td>0.753000</td>\n",
       "    </tr>\n",
       "  </tbody>\n",
       "</table>\n",
       "</div>"
      ],
      "text/plain": [
       "                    low         high         open        close    volume\n",
       "time                                                                    \n",
       "1528968660  6489.549805  6489.560059  6489.560059  6489.549805  0.587100\n",
       "1528968720  6487.370117  6489.560059  6489.549805  6487.379883  7.706374\n",
       "1528968780  6479.410156  6487.370117  6487.370117  6479.410156  3.088252\n",
       "1528968840  6479.410156  6479.419922  6479.419922  6479.410156  1.404100\n",
       "1528968900  6475.930176  6479.979980  6479.410156  6479.979980  0.753000"
      ]
     },
     "execution_count": 2,
     "metadata": {},
     "output_type": "execute_result"
    }
   ],
   "source": [
    "df = pd.read_csv(\"BTC-USD.CSV\", names=[\"time\", \"low\", \"high\",\"open\",\"close\",\"volume\"])\n",
    "df.set_index(\"time\", inplace=True)\n",
    "df.head()"
   ]
  },
  {
   "cell_type": "code",
   "execution_count": 3,
   "metadata": {},
   "outputs": [
    {
     "data": {
      "text/html": [
       "<div>\n",
       "<style scoped>\n",
       "    .dataframe tbody tr th:only-of-type {\n",
       "        vertical-align: middle;\n",
       "    }\n",
       "\n",
       "    .dataframe tbody tr th {\n",
       "        vertical-align: top;\n",
       "    }\n",
       "\n",
       "    .dataframe thead th {\n",
       "        text-align: right;\n",
       "    }\n",
       "</style>\n",
       "<table border=\"1\" class=\"dataframe\">\n",
       "  <thead>\n",
       "    <tr style=\"text-align: right;\">\n",
       "      <th></th>\n",
       "      <th>close</th>\n",
       "    </tr>\n",
       "    <tr>\n",
       "      <th>time</th>\n",
       "      <th></th>\n",
       "    </tr>\n",
       "  </thead>\n",
       "  <tbody>\n",
       "    <tr>\n",
       "      <th>1528968660</th>\n",
       "      <td>6489.549805</td>\n",
       "    </tr>\n",
       "    <tr>\n",
       "      <th>1528968720</th>\n",
       "      <td>6487.379883</td>\n",
       "    </tr>\n",
       "    <tr>\n",
       "      <th>1528968780</th>\n",
       "      <td>6479.410156</td>\n",
       "    </tr>\n",
       "    <tr>\n",
       "      <th>1528968840</th>\n",
       "      <td>6479.410156</td>\n",
       "    </tr>\n",
       "    <tr>\n",
       "      <th>1528968900</th>\n",
       "      <td>6479.979980</td>\n",
       "    </tr>\n",
       "  </tbody>\n",
       "</table>\n",
       "</div>"
      ],
      "text/plain": [
       "                  close\n",
       "time                   \n",
       "1528968660  6489.549805\n",
       "1528968720  6487.379883\n",
       "1528968780  6479.410156\n",
       "1528968840  6479.410156\n",
       "1528968900  6479.979980"
      ]
     },
     "execution_count": 3,
     "metadata": {},
     "output_type": "execute_result"
    }
   ],
   "source": [
    "df = df[[\"close\"]]\n",
    "df.head()"
   ]
  },
  {
   "cell_type": "code",
   "execution_count": 4,
   "metadata": {},
   "outputs": [],
   "source": [
    "SEQ_LENGTH = 60 #no. of previous days from which to predict\n",
    "\n",
    "sc = StandardScaler()\n",
    "\n",
    "def preprocess_df(df):\n",
    "    sc_train = StandardScaler()\n",
    "    df = df.dropna()\n",
    "\n",
    "    df_array = sc.fit_transform(df)\n",
    "\n",
    "    sequential_data = []\n",
    "    prev_days = deque(maxlen=SEQ_LENGTH)\n",
    "\n",
    "    for f in df_array: #list of rows\n",
    "        prev_days.append(f)\n",
    "        if len(prev_days) == SEQ_LENGTH:\n",
    "            sequential_data.append([np.array(prev_days)[:-1], f]) # feature set and labels\n",
    "    \n",
    "    random.shuffle(sequential_data)\n",
    "\n",
    "    x = []\n",
    "    y = []\n",
    "\n",
    "    for seq, target in sequential_data:\n",
    "        x.append(seq)\n",
    "        y.append(target)\n",
    "    \n",
    "    return np.array(x), np.array(y)"
   ]
  },
  {
   "cell_type": "markdown",
   "metadata": {},
   "source": [
    "### Data Preparation and Split:"
   ]
  },
  {
   "cell_type": "code",
   "execution_count": 5,
   "metadata": {},
   "outputs": [],
   "source": [
    "times = sorted(df.index.values)\n",
    "\n",
    "last_5pct = times[-int(0.05*len(times))] # returns index\n",
    "\n",
    "#Splitting data\n",
    "validation_df = df[(df.index >= last_5pct)]\n",
    "df = df[(df.index < last_5pct)]\n",
    "\n",
    "train_x, train_y = preprocess_df(df)\n",
    "\n",
    "validation_x, validation_y = preprocess_df(validation_df)"
   ]
  },
  {
   "cell_type": "markdown",
   "metadata": {},
   "source": [
    "### Construct RNN Model"
   ]
  },
  {
   "cell_type": "code",
   "execution_count": 6,
   "metadata": {},
   "outputs": [],
   "source": [
    "model = Sequential()\n",
    "\n",
    "model.add(CuDNNLSTM(50, input_shape=train_x.shape[1:], return_sequences=True))\n",
    "model.add(Dropout(0.2))\n",
    "model.add(BatchNormalization())\n",
    "\n",
    "model.add(CuDNNLSTM(50, input_shape=train_x.shape[1:]))\n",
    "model.add(Dropout(0.2))\n",
    "model.add(BatchNormalization())\n",
    "\n",
    "model.add(Dense(32, activation='relu'))\n",
    "model.add(Dropout(0.2))\n",
    "\n",
    "model.add(Dense(1))\n",
    "\n",
    "opt = tf.keras.optimizers.Adam(lr=0.001, decay=1e-6)\n",
    "\n",
    "model.compile(loss='mean_squared_error',\n",
    "\toptimizer=opt,\n",
    "\tmetrics=['mse'])"
   ]
  },
  {
   "cell_type": "markdown",
   "metadata": {},
   "source": [
    "### Train Model"
   ]
  },
  {
   "cell_type": "code",
   "execution_count": 7,
   "metadata": {},
   "outputs": [
    {
     "name": "stdout",
     "output_type": "stream",
     "text": [
      "Train on 92779 samples, validate on 4827 samples\n",
      "Epoch 1/10\n",
      "92779/92779 [==============================] - 64s 689us/step - loss: 0.0782 - mean_squared_error: 0.0782 - val_loss: 0.0254 - val_mean_squared_error: 0.0254\n",
      "Epoch 2/10\n",
      "92779/92779 [==============================] - 50s 537us/step - loss: 0.0329 - mean_squared_error: 0.0329 - val_loss: 0.0194 - val_mean_squared_error: 0.0194\n",
      "Epoch 3/10\n",
      "92779/92779 [==============================] - 50s 544us/step - loss: 0.0267 - mean_squared_error: 0.0267 - val_loss: 0.0104 - val_mean_squared_error: 0.0104\n",
      "Epoch 4/10\n",
      "92779/92779 [==============================] - 51s 545us/step - loss: 0.0242 - mean_squared_error: 0.0242 - val_loss: 0.0085 - val_mean_squared_error: 0.0085\n",
      "Epoch 5/10\n",
      "92779/92779 [==============================] - 50s 539us/step - loss: 0.0222 - mean_squared_error: 0.0222 - val_loss: 0.0113 - val_mean_squared_error: 0.0113\n",
      "Epoch 6/10\n",
      "92779/92779 [==============================] - 50s 539us/step - loss: 0.0216 - mean_squared_error: 0.0216 - val_loss: 0.0085 - val_mean_squared_error: 0.0085\n",
      "Epoch 7/10\n",
      "92779/92779 [==============================] - 51s 553us/step - loss: 0.0210 - mean_squared_error: 0.0210 - val_loss: 0.0072 - val_mean_squared_error: 0.0072\n",
      "Epoch 8/10\n",
      "92779/92779 [==============================] - 51s 546us/step - loss: 0.0205 - mean_squared_error: 0.0205 - val_loss: 0.0069 - val_mean_squared_error: 0.0069\n",
      "Epoch 9/10\n",
      "92779/92779 [==============================] - 51s 555us/step - loss: 0.0201 - mean_squared_error: 0.0201 - val_loss: 0.0065 - val_mean_squared_error: 0.0065\n",
      "Epoch 10/10\n",
      "92779/92779 [==============================] - 50s 544us/step - loss: 0.0200 - mean_squared_error: 0.0200 - val_loss: 0.0079 - val_mean_squared_error: 0.0079\n"
     ]
    },
    {
     "data": {
      "text/plain": [
       "<tensorflow.python.keras.callbacks.History at 0x1da94ee2630>"
      ]
     },
     "execution_count": 7,
     "metadata": {},
     "output_type": "execute_result"
    }
   ],
   "source": [
    "EPOCHS = 10\n",
    "BATCH_SIZE = 64\n",
    "\n",
    "model.fit(train_x, train_y,\n",
    "    epochs=EPOCHS,\n",
    "    batch_size=BATCH_SIZE,\n",
    "    validation_data=(validation_x, validation_y))"
   ]
  },
  {
   "cell_type": "markdown",
   "metadata": {},
   "source": [
    "### Visualize the predictions"
   ]
  },
  {
   "cell_type": "code",
   "execution_count": 8,
   "metadata": {},
   "outputs": [
    {
     "data": {
      "image/png": "[encoded data removed]",
      "text/plain": [
       "<Figure size 864x576 with 1 Axes>"
      ]
     },
     "metadata": {},
     "output_type": "display_data"
    }
   ],
   "source": [
    "plt.figure(figsize=(12,8))\n",
    "plt.plot(sc.inverse_transform(validation_y[-30:]), color='red', label=\"Actual Price\")\n",
    "plt.plot(sc.inverse_transform(model.predict(validation_x[-30:])), color=\"blue\", label=\"Predicted Price\")\n",
    "plt.title(\"Bitcoin Price Prediction\")\n",
    "plt.xlabel(\"Time\")\n",
    "plt.ylabel(\"Price\")\n",
    "plt.legend()\n",
    "plt.show()"
   ]
  },
  {
   "cell_type": "code",
   "execution_count": null,
   "metadata": {},
   "outputs": [],
   "source": []
  },
  {
   "cell_type": "code",
   "execution_count": null,
   "metadata": {},
   "outputs": [],
   "source": []
  }
 ],
 "metadata": {
  "kernelspec": {
   "display_name": "Python 3",
   "language": "python",
   "name": "python3"
  },
  "language_info": {
   "codemirror_mode": {
    "name": "ipython",
    "version": 3
   },
   "file_extension": ".py",
   "mimetype": "text/x-python",
   "name": "python",
   "nbconvert_exporter": "python",
   "pygments_lexer": "ipython3",
   "version": "3.6.8"
  }
 },
 "nbformat": 4,
 "nbformat_minor": 2
}
